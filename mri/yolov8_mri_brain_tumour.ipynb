{
 "cells": [
  {
   "cell_type": "code",
   "execution_count": 1,
   "metadata": {},
   "outputs": [
    {
     "name": "stdout",
     "output_type": "stream",
     "text": [
      "Defaulting to user installation because normal site-packages is not writeable\n",
      "Requirement already satisfied: imageio in c:\\users\\chinmay\\appdata\\roaming\\python\\python310\\site-packages (2.31.5)\n",
      "Requirement already satisfied: numpy in c:\\users\\chinmay\\appdata\\roaming\\python\\python310\\site-packages (from imageio) (1.24.4)\n",
      "Requirement already satisfied: pillow>=8.3.2 in c:\\users\\chinmay\\appdata\\roaming\\python\\python310\\site-packages (from imageio) (10.0.0)\n"
     ]
    }
   ],
   "source": [
    "import tensorflow as tf\n",
    "import tensorflow as tf\n",
    "from tensorflow.keras.layers import Input\n",
    "from tensorflow.keras.layers import Conv2D\n",
    "from tensorflow.keras.layers import MaxPooling2D\n",
    "from tensorflow.keras.layers import MaxPool2D\n",
    "from tensorflow.keras.layers import Dropout \n",
    "from tensorflow.keras.layers import Conv2DTranspose\n",
    "from tensorflow.keras.layers import concatenate\n",
    "from tensorflow.keras.layers import BatchNormalization\n",
    "from tensorflow.keras.layers import Activation\n",
    "from tensorflow.keras.layers import Concatenate,UpSampling2D\n",
    "from tensorflow.keras.layers import Add\n",
    "from keras.preprocessing.image import ImageDataGenerator\n",
    "from tensorflow.keras import layers\n",
    "from PIL import Image\n",
    "import re\n",
    "import shutil\n",
    "import cv2\n",
    "from sklearn.metrics import confusion_matrix\n",
    "import os\n",
    "import numpy as np\n",
    "import pandas as pd\n",
    "from sklearn.model_selection import train_test_split\n",
    "import imageio\n",
    "from ultralytics import YOLO\n",
    "import matplotlib.pyplot as plt\n",
    "from tensorflow.keras import backend as K\n",
    "%matplotlib inline"
   ]
  },
  {
   "cell_type": "code",
   "execution_count": null,
   "metadata": {},
   "outputs": [],
   "source": [
    "ROOT=\"D:/yolov8/mri/lgg-mri-segmentation/kaggle_3m\""
   ]
  },
  {
   "cell_type": "code",
   "execution_count": null,
   "metadata": {},
   "outputs": [],
   "source": [
    "images = []\n",
    "labels = []\n",
    "\n",
    "for root, dirs, files in os.walk(ROOT):\n",
    "    for file in files:\n",
    "        if \"mask\" not in file:\n",
    "            image_path = os.path.join(root, file)\n",
    "            mask_file = file.replace(\".tif\", \"_mask.tif\")\n",
    "            mask_path = os.path.join(root, mask_file)\n",
    "\n",
    "            if os.path.exists(mask_path):\n",
    "                # Check if the mask file exists\n",
    "                images.append(image_path)\n",
    "                labels.append(mask_path)\n"
   ]
  },
  {
   "cell_type": "code",
   "execution_count": null,
   "metadata": {},
   "outputs": [],
   "source": [
    "def load_image(path):\n",
    "    try:\n",
    "        image=cv2.imread(path)\n",
    "        if image is None:\n",
    "            print(f\"Failed to load image from path: {path}\")\n",
    "            return None\n",
    "        print(f\"Image shape after loading: {image.shape}\")\n",
    "        image=cv2.resize(image,(256,256))\n",
    "        image=cv2.cvtColor(image,cv2.COLOR_BGR2RGB)\n",
    "        image = np.expand_dims(image, axis=0)\n",
    "\n",
    "        return image/255.0\n",
    "    except Exception as e:\n",
    "        print(f\"Error loading image: {e}\")\n",
    "        return None"
   ]
  },
  {
   "cell_type": "code",
   "execution_count": null,
   "metadata": {},
   "outputs": [],
   "source": [
    "def load_label(path):\n",
    "    try :\n",
    "        image=cv2.imread(path)\n",
    "        if image is None:\n",
    "            print(f\"Failed to load image from path: {path}\")\n",
    "            return None\n",
    "        print(f\"Image shape after loading: {image.shape}\")\n",
    "        image=cv2.resize(image,(256,256))\n",
    "        image=cv2.cvtColor(image,cv2.COLOR_BGR2GRAY)\n",
    "        image = image.astype(np.float32)\n",
    "        return np.expand_dims(image/255.0,axis=-1)\n",
    "    except Exception as e:\n",
    "        print(f\"Error loading image: {e}\")\n",
    "        return None"
   ]
  },
  {
   "cell_type": "code",
   "execution_count": null,
   "metadata": {},
   "outputs": [],
   "source": [
    "def xyxy(labels, zoom=5):\n",
    "    x_min = []\n",
    "    y_min = []\n",
    "    x_max = []\n",
    "    y_max = []\n",
    "    \n",
    "    for path in labels:\n",
    "        mask = load_label(path)\n",
    "        \n",
    "        occurrence = np.where(mask == 1)\n",
    "        \n",
    "        if occurrence[0].size == 0:\n",
    "            xmin = ymin =xmax =ymax =5\n",
    "        else:\n",
    "            ymin = np.sort(occurrence[0])[0]\n",
    "            ymax = np.sort(occurrence[0])[-1]\n",
    "            xmin = np.sort(occurrence[1])[0]\n",
    "            xmax = np.sort(occurrence[1])[-1]\n",
    "\n",
    "        x_min.append(xmin - zoom)\n",
    "        y_min.append(ymin - zoom)\n",
    "        x_max.append(xmax + zoom)\n",
    "        y_max.append(ymax + zoom)\n",
    "    \n",
    "    return (x_min, y_min, x_max, y_max)\n"
   ]
  },
  {
   "cell_type": "code",
   "execution_count": null,
   "metadata": {},
   "outputs": [],
   "source": [
    "xy_xy=xyxy(labels,3)"
   ]
  },
  {
   "cell_type": "code",
   "execution_count": null,
   "metadata": {},
   "outputs": [],
   "source": [
    "def show_sample(cnt):\n",
    "\n",
    "    pic1=load_image(images[cnt])[0]\n",
    "    pic2=load_label(labels[cnt])\n",
    "    mask=load_image(images[cnt])[0]\n",
    "    if 0 <= cnt < len(xy_xy[0]):\n",
    "        cv2.rectangle(mask, (xy_xy[0][cnt], xy_xy[1][cnt]), (xy_xy[2][cnt], xy_xy[3][cnt]), (0, 1, 0), 0)\n",
    "    else:\n",
    "        print(f\"Index {cnt} is out of range for xy_xy.\")\n",
    "\n",
    "    fig = plt.figure(figsize=(7, 6))\n",
    "\n",
    "    ax = fig.add_subplot(1, 3, 1)\n",
    "    ax.set_title(\"Brain Image\")\n",
    "    plt.imshow(pic1)\n",
    "\n",
    "    ax = fig.add_subplot(1, 3, 2)\n",
    "    ax.set_title(\"The Mask\")\n",
    "    plt.imshow(pic2)\n",
    "\n",
    "    ax = fig.add_subplot(1, 3, 3)\n",
    "    ax.set_title(\"                     Image with Rectangle where The Affected Area\")\n",
    "    plt.imshow(mask)"
   ]
  },
  {
   "cell_type": "code",
   "execution_count": null,
   "metadata": {},
   "outputs": [],
   "source": [
    "for i in range(0,100,10):\n",
    "    show_sample(i)"
   ]
  },
  {
   "cell_type": "code",
   "execution_count": null,
   "metadata": {},
   "outputs": [],
   "source": [
    "data=pd.DataFrame(xy_xy).T\n",
    "data.columns=[\"xmin\",\"ymin\",\"xmax\",\"ymax\"]\n",
    "data.insert(loc=0, column='image_path', value=images)\n",
    "data"
   ]
  },
  {
   "cell_type": "code",
   "execution_count": null,
   "metadata": {},
   "outputs": [],
   "source": [
    "data['x_center'] = (data['xmin'] + data['xmax'])/2\n",
    "data['y_center'] = (data['ymin'] + data['ymax'])/2\n",
    "data['w'] = data['xmax'] - data['xmin']\n",
    "data['h'] = data['ymax'] - data['ymin']\n",
    "data['classes'] = 0\n",
    "data['x_center'] = data['x_center']/256\n",
    "data['w'] = data['w']/256\n",
    "data['y_center'] = data['y_center']/256\n",
    "data['h'] = data['h']/256\n",
    "data.rename(columns={'x_center':'x',\"y_center\":\"y\"}, inplace=True)\n",
    "data.head()"
   ]
  },
  {
   "cell_type": "code",
   "execution_count": null,
   "metadata": {},
   "outputs": [],
   "source": [
    "df=data[[\"image_path\",\"x\",\"y\",\"w\",\"h\",\"classes\"]]\n",
    "df"
   ]
  },
  {
   "cell_type": "code",
   "execution_count": null,
   "metadata": {},
   "outputs": [],
   "source": [
    "files = list(df.image_path.unique())\n",
    "files_train, files_valid = train_test_split(files, test_size = 0.2)\n",
    "IMAGES = \"images/\"\n",
    "LABELS = \"labels/\"\n",
    "os.makedirs(IMAGES+\"train\", exist_ok=True)\n",
    "os.makedirs(LABELS+\"train\", exist_ok=True)\n",
    "os.makedirs(IMAGES+\"valid\", exist_ok=True)\n",
    "os.makedirs(LABELS+\"valid\", exist_ok=True)"
   ]
  },
  {
   "cell_type": "code",
   "execution_count": null,
   "metadata": {},
   "outputs": [],
   "source": [
    "train_filename = set(files_train)\n",
    "valid_filename = set(files_valid)\n",
    "for file in files:\n",
    "    if file in train_filename:\n",
    "        shutil.copy(file, IMAGES+\"train\")\n",
    "    elif file in valid_filename:\n",
    "        shutil.copy(file, IMAGES+\"valid\")"
   ]
  },
  {
   "cell_type": "code",
   "execution_count": null,
   "metadata": {},
   "outputs": [],
   "source": [
    "for _, row in df.iterrows():    \n",
    "    image_file = row['image_path']\n",
    "    path=row['image_path'].split(\"/\")[3]\n",
    "    if image_file in train_filename:\n",
    "        annotation_file = os.path.join(LABELS) + \"train/\" + path.replace('.tif', '.txt')\n",
    "    else:\n",
    "        annotation_file = os.path.join(LABELS) + \"valid/\" + path.replace('.tif', '.txt')\n",
    "        \n",
    "    with open(annotation_file, 'a') as ann_file:\n",
    "        ann_file.write(f\" {row['classes']} {row['x']} {row['y']} {row['w']} {row['h']}\\n\")"
   ]
  },
  {
   "cell_type": "code",
   "execution_count": null,
   "metadata": {},
   "outputs": [],
   "source": [
    "%%writefile dataset.yaml\n",
    "# Path\n",
    "train: D:/yolov8/images/train\n",
    "val: D:/yolov8/images/valid\n",
    "\n",
    "# Classes\n",
    "nc: 1\n",
    "names: ['Tumour']"
   ]
  },
  {
   "cell_type": "code",
   "execution_count": null,
   "metadata": {},
   "outputs": [],
   "source": [
    "model = YOLO('yolov8n.pt')"
   ]
  },
  {
   "cell_type": "code",
   "execution_count": null,
   "metadata": {},
   "outputs": [],
   "source": [
    "import torch\n",
    "torch.cuda.is_available()"
   ]
  },
  {
   "cell_type": "code",
   "execution_count": null,
   "metadata": {},
   "outputs": [],
   "source": [
    "from IPython import display\n",
    "display.clear_output()\n",
    " \n",
    "import ultralytics\n",
    "ultralytics.checks()"
   ]
  },
  {
   "cell_type": "code",
   "execution_count": null,
   "metadata": {},
   "outputs": [],
   "source": [
    "model.train(data=\"dataset.yaml\", epochs=10, batch=8,lr0=0.00001)"
   ]
  },
  {
   "cell_type": "code",
   "execution_count": null,
   "metadata": {},
   "outputs": [],
   "source": [
    "Image.open(\"runs/detect/train/results.png\")"
   ]
  }
 ],
 "metadata": {
  "kernelspec": {
   "display_name": "Python 3",
   "language": "python",
   "name": "python3"
  },
  "language_info": {
   "codemirror_mode": {
    "name": "ipython",
    "version": 3
   },
   "file_extension": ".py",
   "mimetype": "text/x-python",
   "name": "python",
   "nbconvert_exporter": "python",
   "pygments_lexer": "ipython3",
   "version": "3.10.6"
  }
 },
 "nbformat": 4,
 "nbformat_minor": 2
}
